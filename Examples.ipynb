{
 "cells": [
  {
   "cell_type": "code",
   "execution_count": 1,
   "id": "0eabf2b6-f170-42c5-a6b7-8d43b5172c7d",
   "metadata": {
    "tags": []
   },
   "outputs": [],
   "source": [
    "from satisfier import ConstraintSystem, all_solutions, tabu"
   ]
  },
  {
   "cell_type": "code",
   "execution_count": 2,
   "id": "0909f7f0-f935-4689-bea9-30bf89c2c156",
   "metadata": {},
   "outputs": [
    {
     "data": {
      "text/plain": [
       "\u001b[0;31mSignature:\u001b[0m \u001b[0mall_solutions\u001b[0m\u001b[0;34m(\u001b[0m\u001b[0msystem\u001b[0m\u001b[0;34m:\u001b[0m \u001b[0msatisfier\u001b[0m\u001b[0;34m.\u001b[0m\u001b[0msystem\u001b[0m\u001b[0;34m.\u001b[0m\u001b[0mConstraintSystem\u001b[0m\u001b[0;34m)\u001b[0m \u001b[0;34m->\u001b[0m \u001b[0mIterator\u001b[0m\u001b[0;34m[\u001b[0m\u001b[0mDict\u001b[0m\u001b[0;34m[\u001b[0m\u001b[0msatisfier\u001b[0m\u001b[0;34m.\u001b[0m\u001b[0msystem\u001b[0m\u001b[0;34m.\u001b[0m\u001b[0mVariable\u001b[0m\u001b[0;34m,\u001b[0m \u001b[0mAny\u001b[0m\u001b[0;34m]\u001b[0m\u001b[0;34m]\u001b[0m\u001b[0;34m\u001b[0m\u001b[0;34m\u001b[0m\u001b[0m\n",
       "\u001b[0;31mDocstring:\u001b[0m\n",
       "Yields all solutions to the given constraint system.\n",
       "\n",
       "Implements backtracking with domain reduction to find all solutions to the\n",
       "constraint system.\n",
       "\n",
       "Example:\n",
       ">>> C = ConstraintSystem()\n",
       ">>> x = C.variable_set\n",
       ">>> C.add_constraints([\n",
       "...     x[0] < x[1],\n",
       "...     x[0]**2 + x[1]**2 == x[2]**2\n",
       "... ])\n",
       "...\n",
       ">>> for variable in C.variables:\n",
       "...     C.set_domain(variable, range(1, 20))\n",
       "...\n",
       ">>> for solution in all_solutions(C):\n",
       "...     print(solution)\n",
       "...\n",
       "[3, 4, 5]\n",
       "[6, 8, 10]\n",
       "[5, 12, 13]\n",
       "[9, 12, 15]\n",
       "[8, 15, 17]\n",
       "\u001b[0;31mFile:\u001b[0m      ~/git/satisfier/satisfier/solutions.py\n",
       "\u001b[0;31mType:\u001b[0m      function\n"
      ]
     },
     "metadata": {},
     "output_type": "display_data"
    }
   ],
   "source": [
    "all_solutions?"
   ]
  },
  {
   "cell_type": "code",
   "execution_count": 14,
   "id": "931e0c24-8276-45e6-8bfe-d16504f9ddc9",
   "metadata": {},
   "outputs": [
    {
     "name": "stdout",
     "output_type": "stream",
     "text": [
      "[3, 4, 5]\n",
      "[6, 8, 10]\n",
      "[5, 12, 13]\n",
      "[9, 12, 15]\n",
      "[8, 15, 17]\n"
     ]
    }
   ],
   "source": [
    "C = ConstraintSystem()\n",
    "x = C.variable_set\n",
    "\n",
    "C.add_constraints([\n",
    "    x[0] < x[1],\n",
    "    x[0]**2 + x[1]**2 == x[2]**2\n",
    "])\n",
    "\n",
    "for v in C.variables:\n",
    "    C.set_domain(v, range(1, 20))\n",
    "    \n",
    "for sol in all_solutions(C):\n",
    "    print(list(sol.values()))"
   ]
  },
  {
   "cell_type": "code",
   "execution_count": 19,
   "id": "28992a77-5646-4774-8ad9-5b5b4bb0c8b3",
   "metadata": {},
   "outputs": [],
   "source": [
    "# Latin Squares\n",
    "\n",
    "C = ConstraintSystem()\n",
    "x = C.variable_set\n",
    "\n",
    "n = 10\n",
    "\n",
    "for i in range(n*n):\n",
    "    C.set_domain(x[i], range(n))\n",
    "    \n",
    "for i in range(n):\n",
    "    C.all_different(x[j] for j in range(i*n, (i + 1)*n))\n",
    "    C.all_different(x[j] for j in range(i, n*n, n))\n",
    "    \n",
    "C.add_constraints(x[i] < x[i + 1] for i in range(n - 1))\n",
    "C.add_constraints(x[i*n] < x[(i + 1)*n] for i in range(n - 1))"
   ]
  },
  {
   "cell_type": "code",
   "execution_count": 20,
   "id": "6f95e3cd-d01e-4ed8-b89d-fd973e069fbb",
   "metadata": {
    "tags": []
   },
   "outputs": [],
   "source": [
    "def display_latin_square(solution):\n",
    "    values = [str(solution[k]) for k in range(n*n)]\n",
    "    rows = [''.join(values[i*n:(i + 1)*n]) for i in range(n)]\n",
    "    board = '\\n'.join(rows)\n",
    "    print(board)"
   ]
  },
  {
   "cell_type": "code",
   "execution_count": 21,
   "id": "c63bdce9-5fa8-41e4-bbd2-6dfb9ef7027d",
   "metadata": {
    "tags": []
   },
   "outputs": [],
   "source": [
    "solution = next(all_solutions(C))"
   ]
  },
  {
   "cell_type": "code",
   "execution_count": 22,
   "id": "d3228449-139b-403f-be90-63aa3ac2e793",
   "metadata": {},
   "outputs": [
    {
     "name": "stdout",
     "output_type": "stream",
     "text": [
      "0123456789\n",
      "1075869324\n",
      "2849375601\n",
      "3507194862\n",
      "4631780295\n",
      "5280937146\n",
      "6398201457\n",
      "7456012938\n",
      "8912643570\n",
      "9764528013\n"
     ]
    }
   ],
   "source": [
    "display_latin_square(solution)"
   ]
  },
  {
   "cell_type": "code",
   "execution_count": 31,
   "id": "7a36a08d-30b5-4533-b961-df653310f768",
   "metadata": {
    "collapsed": true,
    "jupyter": {
     "outputs_hidden": true
    },
    "tags": []
   },
   "outputs": [
    {
     "name": "stdout",
     "output_type": "stream",
     "text": [
      "Initial cost: 178\n",
      "found 168 on iteration 0/2000\n",
      "found 160 on iteration 1/2000\n",
      "found 152 on iteration 2/2000\n",
      "found 144 on iteration 3/2000\n",
      "found 136 on iteration 4/2000\n",
      "found 130 on iteration 5/2000\n",
      "found 124 on iteration 6/2000\n",
      "found 118 on iteration 7/2000\n",
      "found 112 on iteration 8/2000\n",
      "found 106 on iteration 9/2000\n",
      "found 100 on iteration 10/2000\n",
      "found 94 on iteration 11/2000\n",
      "found 88 on iteration 12/2000\n",
      "found 84 on iteration 13/2000\n",
      "found 80 on iteration 14/2000\n",
      "found 76 on iteration 15/2000\n",
      "found 72 on iteration 16/2000\n",
      "found 68 on iteration 17/2000\n",
      "found 64 on iteration 18/2000\n",
      "found 60 on iteration 19/2000\n",
      "found 56 on iteration 20/2000\n",
      "found 52 on iteration 21/2000\n",
      "found 50 on iteration 22/2000\n",
      "found 46 on iteration 23/2000\n",
      "found 44 on iteration 24/2000\n",
      "found 42 on iteration 25/2000\n",
      "found 40 on iteration 26/2000\n",
      "found 38 on iteration 27/2000\n",
      "found 36 on iteration 28/2000\n",
      "found 34 on iteration 29/2000\n",
      "found 32 on iteration 36/2000\n",
      "found 30 on iteration 37/2000\n",
      "aspiration! x_77: 0 -> 28 30\n",
      "found 28 on iteration 42/2000\n",
      "found 24 on iteration 45/2000\n",
      "found 22 on iteration 47/2000\n",
      "found 20 on iteration 48/2000\n",
      "found 16 on iteration 58/2000\n",
      "found 14 on iteration 64/2000\n",
      "found 12 on iteration 75/2000\n",
      "found 10 on iteration 86/2000\n",
      "found 6 on iteration 113/2000\n",
      "found 4 on iteration 356/2000\n"
     ]
    },
    {
     "data": {
      "text/plain": [
       "(4,\n",
       " {0: 1,\n",
       "  1: 2,\n",
       "  2: 3,\n",
       "  3: 0,\n",
       "  4: 4,\n",
       "  5: 5,\n",
       "  6: 6,\n",
       "  7: 7,\n",
       "  8: 8,\n",
       "  9: 2,\n",
       "  10: 1,\n",
       "  11: 0,\n",
       "  12: 5,\n",
       "  13: 8,\n",
       "  14: 3,\n",
       "  15: 7,\n",
       "  16: 4,\n",
       "  17: 6,\n",
       "  18: 3,\n",
       "  19: 6,\n",
       "  20: 7,\n",
       "  21: 4,\n",
       "  22: 2,\n",
       "  23: 1,\n",
       "  24: 5,\n",
       "  25: 8,\n",
       "  26: 0,\n",
       "  27: 5,\n",
       "  28: 8,\n",
       "  29: 4,\n",
       "  30: 7,\n",
       "  31: 0,\n",
       "  32: 2,\n",
       "  33: 1,\n",
       "  34: 6,\n",
       "  35: 3,\n",
       "  36: 7,\n",
       "  37: 0,\n",
       "  38: 1,\n",
       "  39: 2,\n",
       "  40: 3,\n",
       "  41: 6,\n",
       "  42: 8,\n",
       "  43: 5,\n",
       "  44: 4,\n",
       "  45: 8,\n",
       "  46: 4,\n",
       "  47: 5,\n",
       "  48: 6,\n",
       "  49: 1,\n",
       "  50: 0,\n",
       "  51: 3,\n",
       "  52: 2,\n",
       "  53: 7,\n",
       "  54: 0,\n",
       "  55: 7,\n",
       "  56: 6,\n",
       "  57: 3,\n",
       "  58: 5,\n",
       "  59: 8,\n",
       "  60: 4,\n",
       "  61: 1,\n",
       "  62: 2,\n",
       "  63: 4,\n",
       "  64: 3,\n",
       "  65: 8,\n",
       "  66: 1,\n",
       "  67: 6,\n",
       "  68: 7,\n",
       "  69: 2,\n",
       "  70: 0,\n",
       "  71: 5,\n",
       "  72: 6,\n",
       "  73: 5,\n",
       "  74: 2,\n",
       "  75: 8,\n",
       "  76: 7,\n",
       "  77: 4,\n",
       "  78: 0,\n",
       "  79: 3,\n",
       "  80: 1})"
      ]
     },
     "execution_count": 31,
     "metadata": {},
     "output_type": "execute_result"
    }
   ],
   "source": [
    "search(C, max_iterations=2000)"
   ]
  },
  {
   "cell_type": "code",
   "execution_count": 5,
   "id": "41ea5faa-b43c-4bef-8853-325394aaad74",
   "metadata": {
    "tags": []
   },
   "outputs": [],
   "source": [
    "# n Queens\n",
    "\n",
    "C = ConstraintSystem()\n",
    "x = C.variable_set\n",
    "\n",
    "n = 256\n",
    "\n",
    "for i in range(n):\n",
    "    for j in range(i + 1, n):\n",
    "        C.add_constraint(x[i] != x[j])\n",
    "        C.add_constraint(x[i] - x[j] != i - j)\n",
    "        C.add_constraint(x[i] - x[j] != j - i)\n",
    "        \n",
    "for i in range(n):\n",
    "    C.set_domain(x[i], range(n))"
   ]
  },
  {
   "cell_type": "code",
   "execution_count": 6,
   "id": "c0c879a9-77f0-4711-928b-df5bca403b1d",
   "metadata": {
    "tags": []
   },
   "outputs": [],
   "source": [
    "def display_board(assignment):\n",
    "    n = len(assignment)\n",
    "    rows = [['_']*n for _ in range(n)]\n",
    "    for (i, j) in assignment.items():\n",
    "        rows[i][j] = 'X'\n",
    "    print('\\n'.join([''.join(row) for row in rows]))"
   ]
  },
  {
   "cell_type": "code",
   "execution_count": 7,
   "id": "61e177a5-322e-4f5b-a31b-2dc1ac8b3a95",
   "metadata": {
    "collapsed": true,
    "jupyter": {
     "outputs_hidden": true
    },
    "tags": []
   },
   "outputs": [
    {
     "ename": "KeyboardInterrupt",
     "evalue": "",
     "output_type": "error",
     "traceback": [
      "\u001b[0;31m---------------------------------------------------------------------------\u001b[0m",
      "\u001b[0;31mKeyboardInterrupt\u001b[0m                         Traceback (most recent call last)",
      "Input \u001b[0;32mIn [7]\u001b[0m, in \u001b[0;36m<cell line: 1>\u001b[0;34m()\u001b[0m\n\u001b[0;32m----> 1\u001b[0m solution \u001b[38;5;241m=\u001b[39m \u001b[38;5;28;43mnext\u001b[39;49m\u001b[43m(\u001b[49m\u001b[43mall_solutions\u001b[49m\u001b[43m(\u001b[49m\u001b[43mC\u001b[49m\u001b[43m)\u001b[49m\u001b[43m)\u001b[49m\n",
      "File \u001b[0;32m~/git/satisfier/satisfier/solutions.py:71\u001b[0m, in \u001b[0;36mall_solutions.<locals>.backtrack\u001b[0;34m(fixed, unfixed, unsatisfied, domain)\u001b[0m\n\u001b[1;32m     69\u001b[0m \u001b[38;5;28;01mfor\u001b[39;00m value \u001b[38;5;129;01min\u001b[39;00m \u001b[38;5;28msorted\u001b[39m(reduced_domain[variable]):\n\u001b[1;32m     70\u001b[0m     variable\u001b[38;5;241m.\u001b[39mvalue \u001b[38;5;241m=\u001b[39m value\n\u001b[0;32m---> 71\u001b[0m     \u001b[38;5;28;01myield from\u001b[39;00m backtrack(\n\u001b[1;32m     72\u001b[0m         fixed \u001b[38;5;241m|\u001b[39m {variable},\n\u001b[1;32m     73\u001b[0m         unfixed \u001b[38;5;241m-\u001b[39m {variable},\n\u001b[1;32m     74\u001b[0m         unsatisfied \u001b[38;5;241m-\u001b[39m constraints_to_check,\n\u001b[1;32m     75\u001b[0m         reduced_domain,\n\u001b[1;32m     76\u001b[0m     )\n\u001b[1;32m     77\u001b[0m variable\u001b[38;5;241m.\u001b[39mvalue \u001b[38;5;241m=\u001b[39m \u001b[38;5;28;01mNone\u001b[39;00m\n",
      "File \u001b[0;32m~/git/satisfier/satisfier/solutions.py:71\u001b[0m, in \u001b[0;36mall_solutions.<locals>.backtrack\u001b[0;34m(fixed, unfixed, unsatisfied, domain)\u001b[0m\n\u001b[1;32m     69\u001b[0m \u001b[38;5;28;01mfor\u001b[39;00m value \u001b[38;5;129;01min\u001b[39;00m \u001b[38;5;28msorted\u001b[39m(reduced_domain[variable]):\n\u001b[1;32m     70\u001b[0m     variable\u001b[38;5;241m.\u001b[39mvalue \u001b[38;5;241m=\u001b[39m value\n\u001b[0;32m---> 71\u001b[0m     \u001b[38;5;28;01myield from\u001b[39;00m backtrack(\n\u001b[1;32m     72\u001b[0m         fixed \u001b[38;5;241m|\u001b[39m {variable},\n\u001b[1;32m     73\u001b[0m         unfixed \u001b[38;5;241m-\u001b[39m {variable},\n\u001b[1;32m     74\u001b[0m         unsatisfied \u001b[38;5;241m-\u001b[39m constraints_to_check,\n\u001b[1;32m     75\u001b[0m         reduced_domain,\n\u001b[1;32m     76\u001b[0m     )\n\u001b[1;32m     77\u001b[0m variable\u001b[38;5;241m.\u001b[39mvalue \u001b[38;5;241m=\u001b[39m \u001b[38;5;28;01mNone\u001b[39;00m\n",
      "    \u001b[0;31m[... skipping similar frames: all_solutions.<locals>.backtrack at line 71 (3 times)]\u001b[0m\n",
      "File \u001b[0;32m~/git/satisfier/satisfier/solutions.py:71\u001b[0m, in \u001b[0;36mall_solutions.<locals>.backtrack\u001b[0;34m(fixed, unfixed, unsatisfied, domain)\u001b[0m\n\u001b[1;32m     69\u001b[0m \u001b[38;5;28;01mfor\u001b[39;00m value \u001b[38;5;129;01min\u001b[39;00m \u001b[38;5;28msorted\u001b[39m(reduced_domain[variable]):\n\u001b[1;32m     70\u001b[0m     variable\u001b[38;5;241m.\u001b[39mvalue \u001b[38;5;241m=\u001b[39m value\n\u001b[0;32m---> 71\u001b[0m     \u001b[38;5;28;01myield from\u001b[39;00m backtrack(\n\u001b[1;32m     72\u001b[0m         fixed \u001b[38;5;241m|\u001b[39m {variable},\n\u001b[1;32m     73\u001b[0m         unfixed \u001b[38;5;241m-\u001b[39m {variable},\n\u001b[1;32m     74\u001b[0m         unsatisfied \u001b[38;5;241m-\u001b[39m constraints_to_check,\n\u001b[1;32m     75\u001b[0m         reduced_domain,\n\u001b[1;32m     76\u001b[0m     )\n\u001b[1;32m     77\u001b[0m variable\u001b[38;5;241m.\u001b[39mvalue \u001b[38;5;241m=\u001b[39m \u001b[38;5;28;01mNone\u001b[39;00m\n",
      "File \u001b[0;32m~/git/satisfier/satisfier/solutions.py:62\u001b[0m, in \u001b[0;36mall_solutions.<locals>.backtrack\u001b[0;34m(fixed, unfixed, unsatisfied, domain)\u001b[0m\n\u001b[1;32m     60\u001b[0m     \u001b[38;5;28;01myield\u001b[39;00m system\u001b[38;5;241m.\u001b[39mvariable_set\u001b[38;5;241m.\u001b[39mvalues_dict()\n\u001b[1;32m     61\u001b[0m \u001b[38;5;28;01melse\u001b[39;00m:\n\u001b[0;32m---> 62\u001b[0m     prune, reduced_domain, constraint_map \u001b[38;5;241m=\u001b[39m \u001b[43mreduce_domain\u001b[49m\u001b[43m(\u001b[49m\u001b[43munsatisfied\u001b[49m\u001b[43m,\u001b[49m\u001b[43m \u001b[49m\u001b[43mdomain\u001b[49m\u001b[43m)\u001b[49m\n\u001b[1;32m     63\u001b[0m     \u001b[38;5;28;01mif\u001b[39;00m prune:\n\u001b[1;32m     64\u001b[0m         \u001b[38;5;28;01mreturn\u001b[39;00m\n",
      "File \u001b[0;32m~/git/satisfier/satisfier/solutions.py:45\u001b[0m, in \u001b[0;36mall_solutions.<locals>.reduce_domain\u001b[0;34m(unsatisfied, domain)\u001b[0m\n\u001b[1;32m     43\u001b[0m \u001b[38;5;28;01mfor\u001b[39;00m (variable, constraints) \u001b[38;5;129;01min\u001b[39;00m constraint_map\u001b[38;5;241m.\u001b[39mitems():\n\u001b[1;32m     44\u001b[0m     \u001b[38;5;28;01mfor\u001b[39;00m constraint \u001b[38;5;129;01min\u001b[39;00m constraints:\n\u001b[0;32m---> 45\u001b[0m         compatible \u001b[38;5;241m=\u001b[39m \u001b[43mcompatible_values\u001b[49m\u001b[43m(\u001b[49m\u001b[43mconstraint\u001b[49m\u001b[43m,\u001b[49m\u001b[43m \u001b[49m\u001b[43mvariable\u001b[49m\u001b[43m,\u001b[49m\u001b[43m \u001b[49m\u001b[43mreduced\u001b[49m\u001b[43m)\u001b[49m\n\u001b[1;32m     46\u001b[0m         \u001b[38;5;28;01mif\u001b[39;00m \u001b[38;5;129;01mnot\u001b[39;00m compatible:\n\u001b[1;32m     47\u001b[0m             prune \u001b[38;5;241m=\u001b[39m \u001b[38;5;28;01mTrue\u001b[39;00m\n",
      "File \u001b[0;32m~/git/satisfier/satisfier/solutions.py:24\u001b[0m, in \u001b[0;36mall_solutions.<locals>.compatible_values\u001b[0;34m(constraint, variable, domain)\u001b[0m\n\u001b[1;32m     22\u001b[0m \u001b[38;5;28;01mfor\u001b[39;00m value \u001b[38;5;129;01min\u001b[39;00m domain[variable]:\n\u001b[1;32m     23\u001b[0m     variable\u001b[38;5;241m.\u001b[39mvalue \u001b[38;5;241m=\u001b[39m value\n\u001b[0;32m---> 24\u001b[0m     \u001b[38;5;28;01mif\u001b[39;00m \u001b[43mconstraint\u001b[49m\u001b[38;5;241;43m.\u001b[39;49m\u001b[43mis_satisfied\u001b[49m\u001b[43m(\u001b[49m\u001b[43m)\u001b[49m:\n\u001b[1;32m     25\u001b[0m         compatible\u001b[38;5;241m.\u001b[39madd(value)\n\u001b[1;32m     26\u001b[0m variable\u001b[38;5;241m.\u001b[39mvalue \u001b[38;5;241m=\u001b[39m \u001b[38;5;28;01mNone\u001b[39;00m\n",
      "File \u001b[0;32m~/git/satisfier/satisfier/system.py:240\u001b[0m, in \u001b[0;36mConstraint.is_satisfied\u001b[0;34m(self)\u001b[0m\n\u001b[1;32m    239\u001b[0m \u001b[38;5;28;01mdef\u001b[39;00m \u001b[38;5;21mis_satisfied\u001b[39m(\u001b[38;5;28mself\u001b[39m) \u001b[38;5;241m-\u001b[39m\u001b[38;5;241m>\u001b[39m \u001b[38;5;28mbool\u001b[39m:\n\u001b[0;32m--> 240\u001b[0m     \u001b[38;5;28;01mreturn\u001b[39;00m \u001b[38;5;28;43mself\u001b[39;49m\u001b[38;5;241;43m.\u001b[39;49m\u001b[43mrelation\u001b[49m(\u001b[38;5;28mself\u001b[39m\u001b[38;5;241m.\u001b[39mleft\u001b[38;5;241m.\u001b[39mvalue(), \u001b[38;5;28mself\u001b[39m\u001b[38;5;241m.\u001b[39mright\u001b[38;5;241m.\u001b[39mvalue())\n",
      "\u001b[0;31mKeyboardInterrupt\u001b[0m: "
     ]
    }
   ],
   "source": [
    "solution = next(all_solutions(C))"
   ]
  },
  {
   "cell_type": "code",
   "execution_count": 44,
   "id": "c319bd08-e1a0-4b95-bf89-446f9819ae05",
   "metadata": {
    "collapsed": true,
    "jupyter": {
     "outputs_hidden": true
    },
    "tags": []
   },
   "outputs": [
    {
     "name": "stdout",
     "output_type": "stream",
     "text": [
      "___________________________________X______________\n",
      "______________________________________________X___\n",
      "____________________X_____________________________\n",
      "_______________________________________________X__\n",
      "X_________________________________________________\n",
      "______________________________________X___________\n",
      "__________________________X_______________________\n",
      "_____________________X____________________________\n",
      "_________________________________X________________\n",
      "____X_____________________________________________\n",
      "__________________________________X_______________\n",
      "_X________________________________________________\n",
      "_____________X____________________________________\n",
      "__________X_______________________________________\n",
      "_________________X________________________________\n",
      "_________________________________________X________\n",
      "______________________X___________________________\n",
      "_________________________X________________________\n",
      "__X_______________________________________________\n",
      "________________________________________X_________\n",
      "_________________________________________________X\n",
      "___________________________________________X______\n",
      "_______X__________________________________________\n",
      "___________X______________________________________\n",
      "________________X_________________________________\n",
      "__________________________________________X_______\n",
      "___________________X______________________________\n",
      "____________________________________X_____________\n",
      "________________________________X_________________\n",
      "_____________________________X____________________\n",
      "________________________X_________________________\n",
      "______X___________________________________________\n",
      "______________________________X___________________\n",
      "____________________________________________X_____\n",
      "_____X____________________________________________\n",
      "_____________________________________X____________\n",
      "____________X_____________________________________\n",
      "_________X________________________________________\n",
      "_______________X__________________________________\n",
      "__________________X_______________________________\n",
      "_____________________________________________X____\n",
      "______________X___________________________________\n",
      "____________________________X_____________________\n",
      "________X_________________________________________\n",
      "_______________________________X__________________\n",
      "_______________________X__________________________\n",
      "___X______________________________________________\n",
      "___________________________X______________________\n",
      "_______________________________________X__________\n",
      "________________________________________________X_\n"
     ]
    }
   ],
   "source": [
    "display_board(solution)"
   ]
  },
  {
   "cell_type": "code",
   "execution_count": 8,
   "id": "f034eb89-20e2-4449-b9f0-558c589c2ea8",
   "metadata": {
    "tags": []
   },
   "outputs": [
    {
     "name": "stdout",
     "output_type": "stream",
     "text": [
      "initial cost: 608\n",
      "found 594 on iteration 0/1000\n",
      "found 580 on iteration 1/1000\n",
      "found 568 on iteration 2/1000\n",
      "found 556 on iteration 3/1000\n",
      "found 544 on iteration 4/1000\n",
      "found 534 on iteration 5/1000\n",
      "found 524 on iteration 6/1000\n",
      "found 514 on iteration 7/1000\n",
      "found 504 on iteration 8/1000\n",
      "found 494 on iteration 9/1000\n",
      "found 484 on iteration 10/1000\n",
      "found 474 on iteration 11/1000\n",
      "found 464 on iteration 12/1000\n",
      "found 456 on iteration 13/1000\n",
      "found 448 on iteration 14/1000\n",
      "found 440 on iteration 15/1000\n",
      "found 432 on iteration 16/1000\n",
      "found 424 on iteration 17/1000\n",
      "found 416 on iteration 18/1000\n",
      "found 408 on iteration 19/1000\n",
      "found 400 on iteration 20/1000\n",
      "found 392 on iteration 21/1000\n",
      "found 384 on iteration 22/1000\n",
      "found 376 on iteration 23/1000\n",
      "found 368 on iteration 24/1000\n",
      "found 360 on iteration 25/1000\n",
      "found 352 on iteration 26/1000\n",
      "found 346 on iteration 27/1000\n",
      "found 340 on iteration 28/1000\n",
      "found 334 on iteration 29/1000\n",
      "found 328 on iteration 30/1000\n",
      "found 322 on iteration 31/1000\n",
      "found 316 on iteration 32/1000\n",
      "found 310 on iteration 33/1000\n",
      "found 304 on iteration 34/1000\n",
      "found 298 on iteration 35/1000\n",
      "found 292 on iteration 36/1000\n",
      "found 286 on iteration 37/1000\n",
      "found 280 on iteration 38/1000\n",
      "found 274 on iteration 39/1000\n",
      "found 268 on iteration 40/1000\n",
      "found 262 on iteration 41/1000\n",
      "found 256 on iteration 42/1000\n",
      "found 250 on iteration 43/1000\n",
      "found 244 on iteration 44/1000\n",
      "found 238 on iteration 45/1000\n",
      "found 232 on iteration 46/1000\n",
      "found 226 on iteration 47/1000\n",
      "found 220 on iteration 48/1000\n",
      "found 214 on iteration 49/1000\n",
      "found 210 on iteration 50/1000\n",
      "found 206 on iteration 51/1000\n",
      "found 202 on iteration 52/1000\n",
      "found 198 on iteration 53/1000\n",
      "found 194 on iteration 54/1000\n",
      "found 190 on iteration 55/1000\n",
      "found 186 on iteration 56/1000\n",
      "found 182 on iteration 57/1000\n",
      "found 178 on iteration 58/1000\n",
      "found 174 on iteration 59/1000\n",
      "found 170 on iteration 60/1000\n",
      "found 166 on iteration 61/1000\n",
      "found 162 on iteration 62/1000\n",
      "found 158 on iteration 63/1000\n",
      "found 154 on iteration 64/1000\n",
      "found 150 on iteration 65/1000\n",
      "found 146 on iteration 66/1000\n",
      "found 142 on iteration 67/1000\n",
      "found 138 on iteration 68/1000\n",
      "found 134 on iteration 69/1000\n",
      "found 130 on iteration 70/1000\n",
      "found 126 on iteration 71/1000\n",
      "found 122 on iteration 72/1000\n",
      "found 118 on iteration 73/1000\n",
      "found 114 on iteration 74/1000\n",
      "found 110 on iteration 75/1000\n",
      "found 106 on iteration 76/1000\n",
      "found 102 on iteration 77/1000\n",
      "found 98 on iteration 78/1000\n",
      "found 94 on iteration 79/1000\n",
      "found 90 on iteration 80/1000\n",
      "found 86 on iteration 81/1000\n",
      "found 82 on iteration 82/1000\n",
      "found 78 on iteration 83/1000\n",
      "found 74 on iteration 84/1000\n",
      "found 72 on iteration 85/1000\n",
      "found 70 on iteration 86/1000\n",
      "found 68 on iteration 87/1000\n",
      "found 66 on iteration 88/1000\n",
      "found 64 on iteration 89/1000\n",
      "found 62 on iteration 90/1000\n",
      "found 60 on iteration 91/1000\n",
      "found 58 on iteration 92/1000\n",
      "found 56 on iteration 93/1000\n",
      "found 54 on iteration 94/1000\n",
      "found 52 on iteration 95/1000\n",
      "found 50 on iteration 96/1000\n",
      "found 48 on iteration 97/1000\n",
      "found 46 on iteration 98/1000\n",
      "found 44 on iteration 99/1000\n",
      "found 42 on iteration 100/1000\n",
      "found 40 on iteration 101/1000\n",
      "found 38 on iteration 102/1000\n",
      "found 36 on iteration 103/1000\n",
      "found 34 on iteration 104/1000\n",
      "found 32 on iteration 105/1000\n",
      "found 30 on iteration 106/1000\n",
      "found 28 on iteration 107/1000\n",
      "found 26 on iteration 108/1000\n",
      "found 24 on iteration 109/1000\n",
      "found 22 on iteration 110/1000\n",
      "found 20 on iteration 111/1000\n",
      "found 18 on iteration 112/1000\n",
      "found 16 on iteration 113/1000\n",
      "found 14 on iteration 114/1000\n",
      "found 12 on iteration 115/1000\n",
      "found 10 on iteration 121/1000\n",
      "found 8 on iteration 122/1000\n",
      "found 6 on iteration 124/1000\n",
      "found 4 on iteration 126/1000\n",
      "found 2 on iteration 146/1000\n",
      "found 0 on iteration 152/1000\n",
      "CPU times: user 1h 16min 39s, sys: 1.04 s, total: 1h 16min 40s\n",
      "Wall time: 1h 16min 40s\n"
     ]
    }
   ],
   "source": [
    "time cost, solution = tabu(C)"
   ]
  },
  {
   "cell_type": "code",
   "execution_count": 46,
   "id": "1ca154b2-4d33-42a6-93a3-72bbf98805ae",
   "metadata": {
    "tags": []
   },
   "outputs": [
    {
     "name": "stdout",
     "output_type": "stream",
     "text": [
      "________________________________________X_________\n",
      "___________________X______________________________\n",
      "_________________________________X________________\n",
      "_X________________________________________________\n",
      "______________X___________________________________\n",
      "_______________________________X__________________\n",
      "_______________________X__________________________\n",
      "_________________________________________X________\n",
      "_________________X________________________________\n",
      "X_________________________________________________\n",
      "___________________________________X______________\n",
      "___________X______________________________________\n",
      "_________X________________________________________\n",
      "_____________________________________X____________\n",
      "__________________________________________X_______\n",
      "______________________________________X___________\n",
      "_____________________X____________________________\n",
      "_____________________________X____________________\n",
      "_____________X____________________________________\n",
      "_______X__________________________________________\n",
      "_________________________________________________X\n",
      "___________________________________________X______\n",
      "____________X_____________________________________\n",
      "_______________X__________________________________\n",
      "______X___________________________________________\n",
      "___________________________X______________________\n",
      "__X_______________________________________________\n",
      "____________________________X_____________________\n",
      "____________________________________________X_____\n",
      "___X______________________________________________\n",
      "_____________________________________________X____\n",
      "________________X_________________________________\n",
      "______________________________________________X___\n",
      "________________________________X_________________\n",
      "_______________________________________________X__\n",
      "______________________X___________________________\n",
      "________X_________________________________________\n",
      "________________________________________________X_\n",
      "____X_____________________________________________\n",
      "__________X_______________________________________\n",
      "__________________________________X_______________\n",
      "____________________X_____________________________\n",
      "_________________________X________________________\n",
      "_______________________________________X__________\n",
      "________________________X_________________________\n",
      "__________________________X_______________________\n",
      "______________________________X___________________\n",
      "____________________________________X_____________\n",
      "__________________X_______________________________\n",
      "_____X____________________________________________\n"
     ]
    }
   ],
   "source": [
    "display_board(solution)"
   ]
  },
  {
   "cell_type": "code",
   "execution_count": 8,
   "id": "f9313d54-a02d-4be3-8bd8-5feffc663573",
   "metadata": {
    "tags": []
   },
   "outputs": [
    {
     "name": "stdout",
     "output_type": "stream",
     "text": [
      "CPU times: user 1.07 ms, sys: 94 µs, total: 1.16 ms\n",
      "Wall time: 1.17 ms\n"
     ]
    },
    {
     "data": {
      "text/plain": [
       "2"
      ]
     },
     "execution_count": 8,
     "metadata": {},
     "output_type": "execute_result"
    }
   ],
   "source": [
    "\n",
    "time sum(1 for sol in C.solutions())"
   ]
  },
  {
   "cell_type": "code",
   "execution_count": 33,
   "id": "dd9db62c-fd72-4a51-9a9e-190530b6b584",
   "metadata": {},
   "outputs": [],
   "source": [
    "import itertools\n",
    "import random\n",
    "\n",
    "from src.system import ConstraintSystem\n",
    "from src.search import tabu\n",
    "from src.diophantine import diophantine_system, magic_square_system\n",
    "\n",
    "from collections import defaultdict\n",
    "from copy import deepcopy\n",
    "from typing import Dict, List, Set"
   ]
  },
  {
   "cell_type": "code",
   "execution_count": 37,
   "id": "bb47a7fe-ed89-4f84-9b71-862307fac63b",
   "metadata": {
    "tags": []
   },
   "outputs": [],
   "source": [
    "# Magic Squares\n",
    "\n",
    "C = ConstraintSystem()\n",
    "x = C.variable_set\n",
    "\n",
    "n = 3\n",
    "target = n*(n**2 + 1)//2\n",
    "\n",
    "for p in range(n):\n",
    "    C.add_constraint(sum(x[p*n + q] for q in range(n)) == target)\n",
    "    \n",
    "for q in range(n):\n",
    "    C.add_constraint(sum(x[p*n + q] for p in range(n)) == target)\n",
    "    \n",
    "C.add_constraint(sum(x[p] for p in range(0, n*n, n + 1)) == target)\n",
    "C.add_constraint(sum(x[p] for p in range(n - 1, n*n - 1, n - 1)) == target)\n",
    "\n",
    "C.all_different(C.variables)\n",
    "\n",
    "for variable in C.variables:\n",
    "    C.set_domain(variable, range(1, n*n + 1))"
   ]
  },
  {
   "cell_type": "code",
   "execution_count": 46,
   "id": "45338b2f-f8c2-4314-9ddd-08cbb18c6f89",
   "metadata": {},
   "outputs": [
    {
     "name": "stdout",
     "output_type": "stream",
     "text": [
      "Initial cost: 51\n",
      "found 39 on iteration 0/100000\n",
      "found 34 on iteration 1/100000\n",
      "found 30 on iteration 2/100000\n",
      "found 29 on iteration 3/100000\n",
      "found 25 on iteration 5/100000\n",
      "found 24 on iteration 9/100000\n",
      "aspiration! x_0: 2 -> 23 24\n",
      "found 23 on iteration 25/100000\n",
      "aspiration! x_1: 6 -> 22 23\n",
      "found 22 on iteration 26/100000\n",
      "found 21 on iteration 27/100000\n",
      "found 20 on iteration 29/100000\n",
      "skipping!\n",
      "skipping!\n",
      "skipping!\n",
      "skipping!\n",
      "skipping!\n",
      "skipping!\n",
      "skipping!\n",
      "skipping!\n",
      "skipping!\n",
      "skipping!\n",
      "skipping!\n",
      "aspiration! x_8: 5 -> 19 20\n",
      "found 19 on iteration 178/100000\n",
      "found 18 on iteration 179/100000\n",
      "aspiration! x_2: 1 -> 17 18\n",
      "found 17 on iteration 211/100000\n",
      "aspiration! x_0: 2 -> 16 17\n",
      "found 16 on iteration 215/100000\n",
      "aspiration! x_0: 3 -> 14 16\n",
      "found 14 on iteration 231/100000\n"
     ]
    },
    {
     "ename": "KeyboardInterrupt",
     "evalue": "",
     "output_type": "error",
     "traceback": [
      "\u001b[0;31m---------------------------------------------------------------------------\u001b[0m",
      "\u001b[0;31mKeyboardInterrupt\u001b[0m                         Traceback (most recent call last)",
      "\u001b[0;32m<timed exec>\u001b[0m in \u001b[0;36m<module>\u001b[0;34m\u001b[0m\n",
      "\u001b[0;32m~/git/constraint/src/search.py\u001b[0m in \u001b[0;36mtabu\u001b[0;34m(system, alpha, max_iterations, penalty_func)\u001b[0m\n\u001b[1;32m     86\u001b[0m         \u001b[0miteration\u001b[0m \u001b[0;34m+=\u001b[0m \u001b[0;36m1\u001b[0m\u001b[0;34m\u001b[0m\u001b[0;34m\u001b[0m\u001b[0m\n\u001b[1;32m     87\u001b[0m         \u001b[0;32mtry\u001b[0m\u001b[0;34m:\u001b[0m\u001b[0;34m\u001b[0m\u001b[0;34m\u001b[0m\u001b[0m\n\u001b[0;32m---> 88\u001b[0;31m             \u001b[0;34m(\u001b[0m\u001b[0mvariable\u001b[0m\u001b[0;34m,\u001b[0m \u001b[0mnew_value\u001b[0m\u001b[0;34m,\u001b[0m \u001b[0mold_value\u001b[0m\u001b[0;34m,\u001b[0m \u001b[0mcost\u001b[0m\u001b[0;34m)\u001b[0m \u001b[0;34m=\u001b[0m \u001b[0mbest_neighbor\u001b[0m\u001b[0;34m(\u001b[0m\u001b[0mcost\u001b[0m\u001b[0;34m)\u001b[0m\u001b[0;34m\u001b[0m\u001b[0;34m\u001b[0m\u001b[0m\n\u001b[0m\u001b[1;32m     89\u001b[0m         \u001b[0;32mexcept\u001b[0m \u001b[0mIndexError\u001b[0m\u001b[0;34m:\u001b[0m\u001b[0;34m\u001b[0m\u001b[0;34m\u001b[0m\u001b[0m\n\u001b[1;32m     90\u001b[0m             \u001b[0mprint\u001b[0m\u001b[0;34m(\u001b[0m\u001b[0;34m\"skipping!\"\u001b[0m\u001b[0;34m)\u001b[0m\u001b[0;34m\u001b[0m\u001b[0;34m\u001b[0m\u001b[0m\n",
      "\u001b[0;32m~/git/constraint/src/search.py\u001b[0m in \u001b[0;36mbest_neighbor\u001b[0;34m(cost)\u001b[0m\n\u001b[1;32m     44\u001b[0m         \u001b[0;32mfor\u001b[0m \u001b[0mvariable\u001b[0m \u001b[0;32min\u001b[0m \u001b[0mbad_variables\u001b[0m\u001b[0;34m:\u001b[0m\u001b[0;34m\u001b[0m\u001b[0;34m\u001b[0m\u001b[0m\n\u001b[1;32m     45\u001b[0m             \u001b[0moriginal\u001b[0m \u001b[0;34m=\u001b[0m \u001b[0mvariable\u001b[0m\u001b[0;34m.\u001b[0m\u001b[0mvalue\u001b[0m\u001b[0;34m\u001b[0m\u001b[0;34m\u001b[0m\u001b[0m\n\u001b[0;32m---> 46\u001b[0;31m             old = sum(\n\u001b[0m\u001b[1;32m     47\u001b[0m                 \u001b[0mconstraint\u001b[0m\u001b[0;34m.\u001b[0m\u001b[0mpenalty\u001b[0m\u001b[0;34m(\u001b[0m\u001b[0mmethod\u001b[0m\u001b[0;34m=\u001b[0m\u001b[0mpenalty_func\u001b[0m\u001b[0;34m)\u001b[0m\u001b[0;34m\u001b[0m\u001b[0;34m\u001b[0m\u001b[0m\n\u001b[1;32m     48\u001b[0m                 \u001b[0;32mfor\u001b[0m \u001b[0mconstraint\u001b[0m \u001b[0;32min\u001b[0m \u001b[0mconstraints\u001b[0m\u001b[0;34m[\u001b[0m\u001b[0mvariable\u001b[0m\u001b[0;34m]\u001b[0m \u001b[0;32mif\u001b[0m \u001b[0mconstraint\u001b[0m\u001b[0;34m.\u001b[0m\u001b[0mis_violated\u001b[0m\u001b[0;34m(\u001b[0m\u001b[0;34m)\u001b[0m\u001b[0;34m\u001b[0m\u001b[0;34m\u001b[0m\u001b[0m\n",
      "\u001b[0;32m~/git/constraint/src/search.py\u001b[0m in \u001b[0;36m<genexpr>\u001b[0;34m(.0)\u001b[0m\n\u001b[1;32m     46\u001b[0m             old = sum(\n\u001b[1;32m     47\u001b[0m                 \u001b[0mconstraint\u001b[0m\u001b[0;34m.\u001b[0m\u001b[0mpenalty\u001b[0m\u001b[0;34m(\u001b[0m\u001b[0mmethod\u001b[0m\u001b[0;34m=\u001b[0m\u001b[0mpenalty_func\u001b[0m\u001b[0;34m)\u001b[0m\u001b[0;34m\u001b[0m\u001b[0;34m\u001b[0m\u001b[0m\n\u001b[0;32m---> 48\u001b[0;31m                 \u001b[0;32mfor\u001b[0m \u001b[0mconstraint\u001b[0m \u001b[0;32min\u001b[0m \u001b[0mconstraints\u001b[0m\u001b[0;34m[\u001b[0m\u001b[0mvariable\u001b[0m\u001b[0;34m]\u001b[0m \u001b[0;32mif\u001b[0m \u001b[0mconstraint\u001b[0m\u001b[0;34m.\u001b[0m\u001b[0mis_violated\u001b[0m\u001b[0;34m(\u001b[0m\u001b[0;34m)\u001b[0m\u001b[0;34m\u001b[0m\u001b[0;34m\u001b[0m\u001b[0m\n\u001b[0m\u001b[1;32m     49\u001b[0m             )\n\u001b[1;32m     50\u001b[0m \u001b[0;34m\u001b[0m\u001b[0m\n",
      "\u001b[0;32m~/git/constraint/src/system.py\u001b[0m in \u001b[0;36mis_violated\u001b[0;34m(self)\u001b[0m\n\u001b[1;32m    252\u001b[0m \u001b[0;34m\u001b[0m\u001b[0m\n\u001b[1;32m    253\u001b[0m     \u001b[0;32mdef\u001b[0m \u001b[0mis_violated\u001b[0m\u001b[0;34m(\u001b[0m\u001b[0mself\u001b[0m\u001b[0;34m)\u001b[0m \u001b[0;34m->\u001b[0m \u001b[0mbool\u001b[0m\u001b[0;34m:\u001b[0m\u001b[0;34m\u001b[0m\u001b[0;34m\u001b[0m\u001b[0m\n\u001b[0;32m--> 254\u001b[0;31m         \u001b[0;32mreturn\u001b[0m \u001b[0;32mnot\u001b[0m \u001b[0mself\u001b[0m\u001b[0;34m.\u001b[0m\u001b[0mis_satisfied\u001b[0m\u001b[0;34m(\u001b[0m\u001b[0;34m)\u001b[0m\u001b[0;34m\u001b[0m\u001b[0;34m\u001b[0m\u001b[0m\n\u001b[0m\u001b[1;32m    255\u001b[0m \u001b[0;34m\u001b[0m\u001b[0m\n\u001b[1;32m    256\u001b[0m     \u001b[0;32mdef\u001b[0m \u001b[0munassigned_variables\u001b[0m\u001b[0;34m(\u001b[0m\u001b[0mself\u001b[0m\u001b[0;34m)\u001b[0m \u001b[0;34m->\u001b[0m \u001b[0mList\u001b[0m\u001b[0;34m[\u001b[0m\u001b[0mVariable\u001b[0m\u001b[0;34m]\u001b[0m\u001b[0;34m:\u001b[0m\u001b[0;34m\u001b[0m\u001b[0;34m\u001b[0m\u001b[0m\n",
      "\u001b[0;32m~/git/constraint/src/system.py\u001b[0m in \u001b[0;36mis_satisfied\u001b[0;34m(self)\u001b[0m\n\u001b[1;32m    249\u001b[0m \u001b[0;34m\u001b[0m\u001b[0m\n\u001b[1;32m    250\u001b[0m     \u001b[0;32mdef\u001b[0m \u001b[0mis_satisfied\u001b[0m\u001b[0;34m(\u001b[0m\u001b[0mself\u001b[0m\u001b[0;34m)\u001b[0m \u001b[0;34m->\u001b[0m \u001b[0mbool\u001b[0m\u001b[0;34m:\u001b[0m\u001b[0;34m\u001b[0m\u001b[0;34m\u001b[0m\u001b[0m\n\u001b[0;32m--> 251\u001b[0;31m         \u001b[0;32mreturn\u001b[0m \u001b[0mself\u001b[0m\u001b[0;34m.\u001b[0m\u001b[0mrelation\u001b[0m\u001b[0;34m(\u001b[0m\u001b[0mself\u001b[0m\u001b[0;34m.\u001b[0m\u001b[0mleft\u001b[0m\u001b[0;34m.\u001b[0m\u001b[0mvalue\u001b[0m\u001b[0;34m(\u001b[0m\u001b[0;34m)\u001b[0m\u001b[0;34m,\u001b[0m \u001b[0mself\u001b[0m\u001b[0;34m.\u001b[0m\u001b[0mright\u001b[0m\u001b[0;34m.\u001b[0m\u001b[0mvalue\u001b[0m\u001b[0;34m(\u001b[0m\u001b[0;34m)\u001b[0m\u001b[0;34m)\u001b[0m\u001b[0;34m\u001b[0m\u001b[0;34m\u001b[0m\u001b[0m\n\u001b[0m\u001b[1;32m    252\u001b[0m \u001b[0;34m\u001b[0m\u001b[0m\n\u001b[1;32m    253\u001b[0m     \u001b[0;32mdef\u001b[0m \u001b[0mis_violated\u001b[0m\u001b[0;34m(\u001b[0m\u001b[0mself\u001b[0m\u001b[0;34m)\u001b[0m \u001b[0;34m->\u001b[0m \u001b[0mbool\u001b[0m\u001b[0;34m:\u001b[0m\u001b[0;34m\u001b[0m\u001b[0;34m\u001b[0m\u001b[0m\n",
      "\u001b[0;32m~/git/constraint/src/system.py\u001b[0m in \u001b[0;36m<lambda>\u001b[0;34m()\u001b[0m\n\u001b[1;32m     99\u001b[0m                 \u001b[0mlabel\u001b[0m\u001b[0;34m=\u001b[0m\u001b[0mthing\u001b[0m\u001b[0;34m.\u001b[0m\u001b[0mlabel\u001b[0m\u001b[0;34m,\u001b[0m\u001b[0;34m\u001b[0m\u001b[0;34m\u001b[0m\u001b[0m\n\u001b[1;32m    100\u001b[0m                 \u001b[0mvariables\u001b[0m\u001b[0;34m=\u001b[0m\u001b[0mfrozenset\u001b[0m\u001b[0;34m(\u001b[0m\u001b[0;34m[\u001b[0m\u001b[0mthing\u001b[0m\u001b[0;34m]\u001b[0m\u001b[0;34m)\u001b[0m\u001b[0;34m,\u001b[0m\u001b[0;34m\u001b[0m\u001b[0;34m\u001b[0m\u001b[0m\n\u001b[0;32m--> 101\u001b[0;31m                 \u001b[0mvalue\u001b[0m\u001b[0;34m=\u001b[0m\u001b[0;32mlambda\u001b[0m\u001b[0;34m:\u001b[0m \u001b[0mthing\u001b[0m\u001b[0;34m.\u001b[0m\u001b[0mvalue\u001b[0m\u001b[0;34m,\u001b[0m\u001b[0;34m\u001b[0m\u001b[0;34m\u001b[0m\u001b[0m\n\u001b[0m\u001b[1;32m    102\u001b[0m             )\n\u001b[1;32m    103\u001b[0m         \u001b[0;32melse\u001b[0m\u001b[0;34m:\u001b[0m\u001b[0;34m\u001b[0m\u001b[0;34m\u001b[0m\u001b[0m\n",
      "\u001b[0;31mKeyboardInterrupt\u001b[0m: "
     ]
    }
   ],
   "source": [
    "time cost, sol = tabu(C, max_iterations=10**5, alpha=3, penalty_func='error')"
   ]
  },
  {
   "cell_type": "code",
   "execution_count": 45,
   "id": "24aa5b7d-e11f-4b14-847d-328db59a97f0",
   "metadata": {
    "tags": []
   },
   "outputs": [
    {
     "name": "stdout",
     "output_type": "stream",
     "text": [
      "107 ms ± 181 µs per loop (mean ± std. dev. of 7 runs, 10 loops each)\n"
     ]
    }
   ],
   "source": [
    "timeit sum(1 for _ in C.solutions())"
   ]
  },
  {
   "cell_type": "code",
   "execution_count": 46,
   "id": "bdc86c29-d797-4f93-83c6-d8299cab3f27",
   "metadata": {},
   "outputs": [
    {
     "name": "stdout",
     "output_type": "stream",
     "text": [
      "19.3 ms ± 314 µs per loop (mean ± std. dev. of 7 runs, 100 loops each)\n"
     ]
    }
   ],
   "source": [
    "timeit sum(1 for _ in magic_square_system(3))"
   ]
  },
  {
   "cell_type": "code",
   "execution_count": 11,
   "id": "3111ff24-965b-4711-9a68-ab0066ebdd0d",
   "metadata": {},
   "outputs": [
    {
     "ename": "NameError",
     "evalue": "name 'display_square' is not defined",
     "output_type": "error",
     "traceback": [
      "\u001b[0;31m---------------------------------------------------------------------------\u001b[0m",
      "\u001b[0;31mNameError\u001b[0m                                 Traceback (most recent call last)",
      "\u001b[0;32m/tmp/ipykernel_2026373/2161883252.py\u001b[0m in \u001b[0;36m<module>\u001b[0;34m\u001b[0m\n\u001b[1;32m      1\u001b[0m \u001b[0;32mfor\u001b[0m \u001b[0ms\u001b[0m \u001b[0;32min\u001b[0m \u001b[0mmagic_square_system\u001b[0m\u001b[0;34m(\u001b[0m\u001b[0;36m3\u001b[0m\u001b[0;34m)\u001b[0m\u001b[0;34m:\u001b[0m\u001b[0;34m\u001b[0m\u001b[0;34m\u001b[0m\u001b[0m\n\u001b[0;32m----> 2\u001b[0;31m     \u001b[0mprint\u001b[0m\u001b[0;34m(\u001b[0m\u001b[0mdisplay_square\u001b[0m\u001b[0;34m(\u001b[0m\u001b[0ms\u001b[0m\u001b[0;34m)\u001b[0m\u001b[0;34m)\u001b[0m\u001b[0;34m\u001b[0m\u001b[0;34m\u001b[0m\u001b[0m\n\u001b[0m\u001b[1;32m      3\u001b[0m     \u001b[0mprint\u001b[0m\u001b[0;34m(\u001b[0m\u001b[0;34m)\u001b[0m\u001b[0;34m\u001b[0m\u001b[0;34m\u001b[0m\u001b[0m\n",
      "\u001b[0;31mNameError\u001b[0m: name 'display_square' is not defined"
     ]
    }
   ],
   "source": [
    "for s in magic_square_system(3):\n",
    "    print(display_square(s))\n",
    "    print()"
   ]
  },
  {
   "cell_type": "code",
   "execution_count": 9,
   "id": "091a031c-8683-443b-af7b-05b169789c47",
   "metadata": {},
   "outputs": [],
   "source": [
    "# Derangements\n",
    "\n",
    "C = ConstraintSystem()\n",
    "x = C.variable_set\n",
    "\n",
    "n = 20\n",
    "for i in range(n):\n",
    "    C.set_domain(x[i], range(n))\n",
    "\n",
    "for i in range(n):\n",
    "    C.add_constraint(x[i] != i)\n",
    "\n",
    "C.all_different(C.variables)"
   ]
  },
  {
   "cell_type": "code",
   "execution_count": 10,
   "id": "6aaa056c-5fbf-4510-965c-830178e1a608",
   "metadata": {},
   "outputs": [
    {
     "data": {
      "text/plain": [
       "dict_values([1, 6, 11, 5, 7, 12, 13, 15, 9, 3, 14, 0, 8, 4, 19, 16, 2, 10, 17, 18])"
      ]
     },
     "execution_count": 10,
     "metadata": {},
     "output_type": "execute_result"
    }
   ],
   "source": [
    "solution = next(all_solutions(C))\n",
    "terms = solution.values()\n",
    "terms"
   ]
  },
  {
   "cell_type": "code",
   "execution_count": 24,
   "id": "a8815757-e883-4df2-80a8-f2e34494f210",
   "metadata": {},
   "outputs": [
    {
     "name": "stdout",
     "output_type": "stream",
     "text": [
      "Initial cost: 9\n",
      "found 8 on iteration 2/100\n",
      "found 6 on iteration 3/100\n",
      "found 4 on iteration 4/100\n",
      "found 2 on iteration 5/100\n",
      "found 0 on iteration 6/100\n"
     ]
    },
    {
     "data": {
      "text/plain": [
       "(0,\n",
       " {0: 4,\n",
       "  1: 16,\n",
       "  2: 5,\n",
       "  3: 2,\n",
       "  4: 6,\n",
       "  5: 7,\n",
       "  6: 8,\n",
       "  7: 15,\n",
       "  8: 3,\n",
       "  9: 12,\n",
       "  10: 9,\n",
       "  11: 14,\n",
       "  12: 19,\n",
       "  13: 17,\n",
       "  14: 11,\n",
       "  15: 1,\n",
       "  16: 18,\n",
       "  17: 10,\n",
       "  18: 0,\n",
       "  19: 13})"
      ]
     },
     "execution_count": 24,
     "metadata": {},
     "output_type": "execute_result"
    }
   ],
   "source": [
    "C.search(alpha=3, max_iterations=100)"
   ]
  },
  {
   "cell_type": "code",
   "execution_count": 58,
   "id": "c139eec6-96c6-44f7-bcc8-33cc5c14f9b4",
   "metadata": {},
   "outputs": [
    {
     "name": "stdout",
     "output_type": "stream",
     "text": [
      "CPU times: user 2.67 s, sys: 3.98 ms, total: 2.67 s\n",
      "Wall time: 2.68 s\n"
     ]
    },
    {
     "data": {
      "text/plain": [
       "14833"
      ]
     },
     "execution_count": 58,
     "metadata": {},
     "output_type": "execute_result"
    }
   ],
   "source": [
    "time sum(1 for _ in C.solutions())"
   ]
  },
  {
   "cell_type": "code",
   "execution_count": 26,
   "id": "f635e873-246a-409e-be91-615799305209",
   "metadata": {},
   "outputs": [],
   "source": [
    "C = CSP()\n",
    "x = C.variable_set\n",
    "\n",
    "n = 2\n",
    "pairs = [\n",
    "    (f\"m{i}\", f\"w{i}\") for i in range(n)\n",
    "]\n",
    "\n",
    "for (p1, p2) in pairs:\n",
    "    C.add_constraint(x[p1] - x[p2] != 1)\n",
    "    C.add_constraint(x[p2] - x[p1] != 1)\n",
    "\n",
    "#C.add_constraint(x['m0'] == 0)\n",
    "\n",
    "for v in C.variables:\n",
    "    C.set_domain(v, range(2*n))\n",
    "\n",
    "C.all_different(C.variables)"
   ]
  },
  {
   "cell_type": "code",
   "execution_count": 60,
   "id": "a47ea686-69ad-4369-9e84-49e62cfa2ee8",
   "metadata": {},
   "outputs": [
    {
     "name": "stdout",
     "output_type": "stream",
     "text": [
      "CPU times: user 2.72 s, sys: 3.95 ms, total: 2.72 s\n",
      "Wall time: 2.73 s\n"
     ]
    },
    {
     "data": {
      "text/plain": [
       "13824"
      ]
     },
     "execution_count": 60,
     "metadata": {},
     "output_type": "execute_result"
    }
   ],
   "source": [
    "time sum(1 for _ in C.solutions())"
   ]
  },
  {
   "cell_type": "code",
   "execution_count": 27,
   "id": "675afb5d-4c32-4af5-ab69-b83d0cf91753",
   "metadata": {
    "tags": []
   },
   "outputs": [
    {
     "name": "stdout",
     "output_type": "stream",
     "text": [
      "{'m0': 3, 'w0': 1, 'm1': 0, 'w1': 2}\n",
      "{'m0': 1, 'w0': 3, 'm1': 0, 'w1': 2}\n",
      "{'m0': 2, 'w0': 0, 'm1': 1, 'w1': 3}\n",
      "{'m0': 0, 'w0': 2, 'm1': 1, 'w1': 3}\n",
      "{'m0': 3, 'w0': 1, 'm1': 2, 'w1': 0}\n",
      "{'m0': 1, 'w0': 3, 'm1': 2, 'w1': 0}\n",
      "{'m0': 2, 'w0': 0, 'm1': 3, 'w1': 1}\n",
      "{'m0': 0, 'w0': 2, 'm1': 3, 'w1': 1}\n"
     ]
    }
   ],
   "source": [
    "for s in C.solutions():\n",
    "    print(s)"
   ]
  },
  {
   "cell_type": "code",
   "execution_count": 9,
   "id": "9294f82c-d2e3-4184-bd43-0b07ecfd5c76",
   "metadata": {},
   "outputs": [],
   "source": [
    "# Langford Pairings\n",
    "C = CSP()\n",
    "x = C.variable_set\n",
    "\n",
    "n = 13\n",
    "pairs = [(f\"{i}_1\", f\"{i}_2\") for i in range(1, n + 1)]\n",
    "\n",
    "for i in range(1, n + 1):\n",
    "    p1, p2 = (f\"{i}_1\", f\"{i}_2\")\n",
    "    C.add_constraint(x[p1] < x[p2])\n",
    "    C.add_constraint(x[p2] - x[p1] == i + 1)\n",
    "    \n",
    "for v in C.variables:\n",
    "    C.set_domain(v, range(2*n))\n",
    "\n",
    "C.all_different(C.variables)"
   ]
  },
  {
   "cell_type": "code",
   "execution_count": 10,
   "id": "cc799ad1-1689-4715-8fd4-5b05996224b1",
   "metadata": {},
   "outputs": [
    {
     "name": "stdout",
     "output_type": "stream",
     "text": [
      "Initial cost: 63\n",
      "found 62 on iteration 2/400\n",
      "found 53 on iteration 3/400\n",
      "found 48 on iteration 4/400\n",
      "found 40 on iteration 5/400\n",
      "found 34 on iteration 6/400\n",
      "found 28 on iteration 7/400\n",
      "found 23 on iteration 8/400\n",
      "found 21 on iteration 9/400\n",
      "found 21 on iteration 10/400\n",
      "found 21 on iteration 11/400\n",
      "found 19 on iteration 12/400\n",
      "found 19 on iteration 14/400\n",
      "aspiration! x_2_1: 20 -> 18 19\n",
      "found 18 on iteration 185/400\n"
     ]
    },
    {
     "data": {
      "text/plain": [
       "(18,\n",
       " {'1_1': 8,\n",
       "  '1_2': 18,\n",
       "  '2_1': 20,\n",
       "  '2_2': 23,\n",
       "  '3_1': 21,\n",
       "  '3_2': 25,\n",
       "  '4_1': 14,\n",
       "  '4_2': 19,\n",
       "  '5_1': 0,\n",
       "  '5_2': 1,\n",
       "  '6_1': 5,\n",
       "  '6_2': 17,\n",
       "  '7_1': 9,\n",
       "  '7_2': 24,\n",
       "  '8_1': 2,\n",
       "  '8_2': 13,\n",
       "  '9_1': 12,\n",
       "  '9_2': 22,\n",
       "  '10_1': 7,\n",
       "  '10_2': 10,\n",
       "  '11_1': 4,\n",
       "  '11_2': 6,\n",
       "  '12_1': 3,\n",
       "  '12_2': 11,\n",
       "  '13_1': 15,\n",
       "  '13_2': 16})"
      ]
     },
     "execution_count": 10,
     "metadata": {},
     "output_type": "execute_result"
    }
   ],
   "source": [
    "C.search(alpha=20, max_iterations=400)"
   ]
  },
  {
   "cell_type": "code",
   "execution_count": 43,
   "id": "b1d1d1bb-29a2-4289-b41d-73cde4487801",
   "metadata": {},
   "outputs": [
    {
     "data": {
      "text/plain": [
       "{'1_1': 18,\n",
       " '1_2': 20,\n",
       " '2_1': 1,\n",
       " '2_2': 4,\n",
       " '3_1': 2,\n",
       " '3_2': 6,\n",
       " '4_1': 14,\n",
       " '4_2': 19,\n",
       " '5_1': 5,\n",
       " '5_2': 11,\n",
       " '6_1': 9,\n",
       " '6_2': 16,\n",
       " '7_1': 7,\n",
       " '7_2': 15,\n",
       " '8_1': 8,\n",
       " '8_2': 17,\n",
       " '9_1': 3,\n",
       " '9_2': 13,\n",
       " '10_1': 10,\n",
       " '10_2': 21,\n",
       " '11_1': 0,\n",
       " '11_2': 12}"
      ]
     },
     "execution_count": 43,
     "metadata": {},
     "output_type": "execute_result"
    }
   ],
   "source": [
    "next(C.solutions())"
   ]
  },
  {
   "cell_type": "code",
   "execution_count": 23,
   "id": "667e8ae8-d25d-49c4-93b8-cd69aa19dc9f",
   "metadata": {},
   "outputs": [
    {
     "name": "stdout",
     "output_type": "stream",
     "text": [
      "CPU times: user 20.4 ms, sys: 4 µs, total: 20.4 ms\n",
      "Wall time: 19.6 ms\n"
     ]
    },
    {
     "data": {
      "text/plain": [
       "2"
      ]
     },
     "execution_count": 23,
     "metadata": {},
     "output_type": "execute_result"
    }
   ],
   "source": [
    "time sum(1 for _ in C.solutions())"
   ]
  },
  {
   "cell_type": "code",
   "execution_count": 31,
   "id": "07b45770-398f-4def-9a57-918538702639",
   "metadata": {},
   "outputs": [],
   "source": [
    "def display_langford(assignment):\n",
    "    n = len(assignment)\n",
    "    reverse_assignment = {v: k for (k, v) in assignment.items()}\n",
    "    layout = [0]*n\n",
    "    for i in range(n):\n",
    "        layout[i] = int(reverse_assignment[i][0])\n",
    "    return layout"
   ]
  },
  {
   "cell_type": "code",
   "execution_count": 27,
   "id": "b19318ff-af17-49fb-b0f2-bc7b6521602f",
   "metadata": {},
   "outputs": [
    {
     "name": "stdout",
     "output_type": "stream",
     "text": [
      "[3, 1, 2, 1, 3, 2]\n",
      "[2, 3, 1, 2, 1, 3]\n"
     ]
    }
   ],
   "source": [
    "for s in C.solutions():\n",
    "    print(display_langford(s))"
   ]
  },
  {
   "cell_type": "code",
   "execution_count": 6,
   "id": "9b5926b8-0538-47f7-a09a-d1dae9156ef4",
   "metadata": {},
   "outputs": [],
   "source": [
    "def langford(n):\n",
    "    stack = [(0, [0]*(2*n), set(range(1, n + 1)))]\n",
    "    all_bits = 2**(2*n) - 1\n",
    "\n",
    "    while stack:\n",
    "        (covered, vector, left) = stack.pop()\n",
    "\n",
    "        if covered == all_bits:\n",
    "            yield vector\n",
    "        else:\n",
    "            # i1 is least unset bit\n",
    "            i1 = ~covered & (covered + 1)\n",
    "\n",
    "            for p in left:\n",
    "                i2 = i1 << (p + 1)\n",
    "\n",
    "                if i2 > all_bits:\n",
    "                    continue\n",
    "\n",
    "                pos = i1 | i2\n",
    "\n",
    "                if covered & pos == 0:\n",
    "                    new_vector = list(vector)\n",
    "                    new_vector[-i1.bit_length()] = p\n",
    "                    new_vector[-i2.bit_length()] = p\n",
    "                    stack.append((covered | pos, new_vector, left - {p}))"
   ]
  },
  {
   "cell_type": "code",
   "execution_count": 17,
   "id": "de3c2319-536f-4291-bb1a-57409cdffbdf",
   "metadata": {},
   "outputs": [
    {
     "name": "stdout",
     "output_type": "stream",
     "text": [
      "CPU times: user 6.57 s, sys: 3.43 ms, total: 6.57 s\n",
      "Wall time: 6.59 s\n"
     ]
    },
    {
     "data": {
      "text/plain": [
       "35584"
      ]
     },
     "execution_count": 17,
     "metadata": {},
     "output_type": "execute_result"
    }
   ],
   "source": [
    "time sum(1 for _ in langford(11))"
   ]
  }
 ],
 "metadata": {
  "kernelspec": {
   "display_name": "Python 3 (ipykernel)",
   "language": "python",
   "name": "python3"
  },
  "language_info": {
   "codemirror_mode": {
    "name": "ipython",
    "version": 3
   },
   "file_extension": ".py",
   "mimetype": "text/x-python",
   "name": "python",
   "nbconvert_exporter": "python",
   "pygments_lexer": "ipython3",
   "version": "3.9.12"
  }
 },
 "nbformat": 4,
 "nbformat_minor": 5
}
